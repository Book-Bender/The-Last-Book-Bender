{
 "cells": [
  {
   "cell_type": "markdown",
   "id": "339e46d3-890d-4e07-8488-dafeea1f4721",
   "metadata": {},
   "source": [
    "# CF book rec for user with context\n",
    "\n",
    "This notebook demonstrates predicting rating of books for a user with records using goodreads-10k.\n",
    "\n",
    "We have seen that for UBCF (user-based collaborative filtering), adjusted cosine similarity as a model for has good CV score (for RMSE, MAE). This notebook's model is then based on adjusted cosine.\n",
    "\n",
    "This notebook implements model to generate top book ids for users.\n",
    "\n",
    "**Note: The indices for vectors, matrices are the same as the `book_id, user_id` in this dataset.**"
   ]
  },
  {
   "cell_type": "code",
   "execution_count": 1,
   "id": "8114a7c1-4fa8-4998-9787-4c2f9cef49c5",
   "metadata": {},
   "outputs": [],
   "source": [
    "# you might need these to define your own rating vectors\n",
    "import numpy as np\n",
    "import scipy as sp\n",
    "# the following imports the model needed\n",
    "from cf_model import cf_model\n",
    "# from cf-model import \n",
    "# !readlink -f . # this reads filepath to the directory holding this notebook."
   ]
  },
  {
   "cell_type": "code",
   "execution_count": 2,
   "id": "e9a28ce4-e53c-4d7f-9a0f-a1f6945e7a95",
   "metadata": {},
   "outputs": [],
   "source": [
    "# define your path to data directory here\n",
    "fp = \"/home/zebalgebra/School/DVA/The-Last-Book-Bender/Data/Raw/\"\n",
    "fname = \"ratings_for_cf.npz\""
   ]
  },
  {
   "cell_type": "markdown",
   "id": "c86406d4-72a3-4ef2-8d43-23c9197608b6",
   "metadata": {},
   "source": [
    "if you don't have the file `ratings_for_cf.npz`, execute this block to generate one (this assumes that you have the `ratings.csv` file from [this link](https://github.com/malcolmosh/goodbooks-10k-extended/blob/master/ratings.csv)). this block basically reads raw csv, center each rating, and shift a little to give more useful recommendations. if you don't have the file `ratings.csv`, you can download it at [this link](https://github.com/malcolmosh/goodbooks-10k-extended/blob/master/ratings.csv), or simply execute the line with the url; note that this will take a fair amount of time (about 5-6x amount of time on my machine and internet speed)."
   ]
  },
  {
   "cell_type": "code",
   "execution_count": 3,
   "id": "65f3aa0c-fd8d-4d43-8900-1c51c97dd7da",
   "metadata": {},
   "outputs": [
    {
     "name": "stdout",
     "output_type": "stream",
     "text": [
      "CPU times: user 4.42 s, sys: 1.29 s, total: 5.71 s\n",
      "Wall time: 4.91 s\n"
     ]
    }
   ],
   "source": [
    "%%time\n",
    "import pandas as pd\n",
    "df = pd.read_csv(fp + \"ratings.csv\")\n",
    "# df = pd.read_csv(\"https://raw.githubusercontent.com/malcolmosh/goodbooks-10k-extended/master/ratings.csv\")\n",
    "\n",
    "# this shifts ratings by mean\n",
    "mean = df.groupby(\"user_id\").agg({\"rating\": \"mean\"}).rename(columns={\"rating\": \"mean\"})\n",
    "df = df.merge(mean, on=\"user_id\")\n",
    "df[\"rating\"] = df[\"rating\"] - df[\"mean\"] + 10 ** (-8)\n",
    "\n",
    "# generate and save csc matrix\n",
    "mat = sp.sparse.csc_matrix(\n",
    "    (\n",
    "        np.array(df[\"rating\"]),\n",
    "        (\n",
    "            np.array(df[\"book_id\"]),\n",
    "            np.array(df[\"user_id\"])\n",
    "        )\n",
    "    )\n",
    ")\n",
    "with open(fp + \"ratings_for_cf.npz\", \"wb\") as f:\n",
    "    sp.sparse.save_npz(f, mat)"
   ]
  },
  {
   "cell_type": "markdown",
   "id": "863f0cf8-4844-4899-9c79-3da99e6b2038",
   "metadata": {},
   "source": [
    "## Usage Demonstration\n",
    "Initialize model with the processed ratings matrix, specified by filepath to directory and filename."
   ]
  },
  {
   "cell_type": "code",
   "execution_count": 3,
   "id": "9fd52aed-1f52-40d6-be82-7be4858ed93e",
   "metadata": {},
   "outputs": [
    {
     "name": "stdout",
     "output_type": "stream",
     "text": [
      "CPU times: user 460 ms, sys: 996 ms, total: 1.46 s\n",
      "Wall time: 411 ms\n"
     ]
    }
   ],
   "source": [
    "# fp = \"/home/zebalgebra/School/DVA/The-Last-Book-Bender/Data/Raw/\"\n",
    "# fname = \"ratings_for_cf.npz\"\n",
    "# should take about 0.5s to load\n",
    "%%time\n",
    "model = cf_model(fp, fname)"
   ]
  },
  {
   "cell_type": "markdown",
   "id": "d471446a-3d92-45ab-b05f-d9583a541e4e",
   "metadata": {},
   "source": [
    "You can define context as:\n",
    "1. A dictionary of book_id: value.\n",
    "2. A list or tuple of pairs (book_id, value) or [book_id, value].\n",
    "3. An numpy vector with v[book_id]=value.\n",
    "4. A scipy sparse vector.\n",
    "5. An integer, which would betreated as an user_id.\n",
    "\n",
    "To get top recommendations, you need to specify how many neighbors to use (this is the value of `k` to pass in), how many recommendations to generate (this is the value of `m` to pass in).\n",
    "\n",
    "Say your user rated book id 1 with 1, book id 2 also with 1. You can generate book recs as follows:"
   ]
  },
  {
   "cell_type": "code",
   "execution_count": 11,
   "id": "c566bfd5-ea4a-40d4-ba7b-b5842b6ef868",
   "metadata": {},
   "outputs": [
    {
     "name": "stdout",
     "output_type": "stream",
     "text": [
      "CPU times: user 35.6 ms, sys: 0 ns, total: 35.6 ms\n",
      "Wall time: 34.4 ms\n"
     ]
    },
    {
     "data": {
      "text/plain": [
       "[(2.2575757675757577, 6341),\n",
       " (2.0952381052380953, 3224),\n",
       " (2.00000001, 2157),\n",
       " (2.00000001, 1969),\n",
       " (1.9342067276600015, 5778),\n",
       " (1.7640449538202247, 7500),\n",
       " (1.7640449538202247, 3964),\n",
       " (1.6859504232231404, 8916),\n",
       " (1.6859504232231404, 4270),\n",
       " (1.6859504232231404, 2017)]"
      ]
     },
     "execution_count": 11,
     "metadata": {},
     "output_type": "execute_result"
    }
   ],
   "source": [
    "%%time\n",
    "context_dict = {1: 1, 2: 1}\n",
    "context_t_t = ((1, 1), (2, 1))\n",
    "context_l_t = [(1, 1), (2, 1)]\n",
    "context_t_l = ([1, 1], [2, 1])\n",
    "context_l_l = [[1, 1], [2, 1]]\n",
    "context_np = np.array([0, 1, 1, 0, 0])\n",
    "context_sp_csc = sp.sparse.csc_matrix(np.array([0, 1, 1, 0, 0]))\n",
    "context_sp_csr = sp.sparse.csr_matrix(np.array([0, 1, 1, 0, 0]))\n",
    "context_sp_coo = sp.sparse.coo_matrix(np.array([0, 1, 1, 0, 0]))\n",
    "context_int = 4\n",
    "\n",
    "context = context_int\n",
    "\n",
    "model.get_top_m_recs_k_neighbors(context, k=100, m=10)"
   ]
  },
  {
   "cell_type": "markdown",
   "id": "ac4d4999-a835-40f3-9fe9-acc9a59ee47d",
   "metadata": {},
   "source": [
    "This says for example that the book with id 681 gives a difference in rating of 2.124 to the user's baseline."
   ]
  }
 ],
 "metadata": {
  "kernelspec": {
   "display_name": "Python 3 (ipykernel)",
   "language": "python",
   "name": "python3"
  },
  "language_info": {
   "codemirror_mode": {
    "name": "ipython",
    "version": 3
   },
   "file_extension": ".py",
   "mimetype": "text/x-python",
   "name": "python",
   "nbconvert_exporter": "python",
   "pygments_lexer": "ipython3",
   "version": "3.9.18"
  }
 },
 "nbformat": 4,
 "nbformat_minor": 5
}
