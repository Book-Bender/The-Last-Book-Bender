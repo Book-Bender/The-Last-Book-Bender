{
 "cells": [
  {
   "cell_type": "markdown",
   "id": "98a3d828-411d-4484-be65-f9cde9c172fe",
   "metadata": {},
   "source": [
    "# Collaborative Filtering Notebook with `surprise`"
   ]
  },
  {
   "cell_type": "markdown",
   "id": "c061063e-a0fd-4128-89bc-7c0217b3ad19",
   "metadata": {},
   "source": [
    "## Model Training Demo"
   ]
  },
  {
   "cell_type": "markdown",
   "id": "d37dcb27-90e1-41e5-802b-28f34b5eeb72",
   "metadata": {},
   "source": [
    "These lines loads the ratings and convert it to `surprise.Dataset` object."
   ]
  },
  {
   "cell_type": "code",
   "execution_count": 48,
   "id": "eee9e1e6-d6f3-4c55-913c-ddcab04b8ff0",
   "metadata": {},
   "outputs": [
    {
     "data": {
      "text/plain": [
       "user_id    53424\n",
       "book_id    10000\n",
       "rating         5\n",
       "dtype: int64"
      ]
     },
     "execution_count": 48,
     "metadata": {},
     "output_type": "execute_result"
    }
   ],
   "source": [
    "from surprise import Dataset, NormalPredictor, Reader\n",
    "import pandas as pd\n",
    "ratings_df = pd.read_csv(\n",
    "    filepath_or_buffer=\"../Data/Raw/ratings.csv\",\n",
    "    dtype={\n",
    "        \"user_id\": \"Int32\",\n",
    "        \"book_id\": \"Int32\",\n",
    "        \"rating\": \"Int8\"\n",
    "    }\n",
    ")\n",
    "ratings_sdata = Dataset.load_from_df(\n",
    "    df=ratings_df,\n",
    "    reader=Reader(rating_scale=(1, 5))\n",
    ")\n",
    "ratings_df.nunique()"
   ]
  },
  {
   "cell_type": "markdown",
   "id": "c9988963-46a5-45f1-a6f3-b234892e3f49",
   "metadata": {},
   "source": [
    "We can choose a similarity metric for CF, given by the `surprise.similarities` module."
   ]
  },
  {
   "cell_type": "code",
   "execution_count": 56,
   "id": "d75e5e90-977e-41e4-b941-30a0f895537e",
   "metadata": {},
   "outputs": [],
   "source": [
    "from surprise import KNNBasic\n",
    "sim_options = {\n",
    "    \"name\": \"cosine\", # options: cosine, msd, pearson, pearson_baseline\n",
    "    \"user_based\": False,  # False=CF on item; True=CF on user\n",
    "    \"shrinkage\": 0, # takes effect if \"name\" set to pearson_baseline, can prevent overfit\n",
    "    \"min_support\": 1, # if num of common ratings is less than this, truncates to 0, reduces user-item matrix density\n",
    "}\n",
    "algo = KNNBasic(sim_options=sim_options) # other algo options: https://surprise.readthedocs.io/en/stable/prediction_algorithms_package.html"
   ]
  },
  {
   "cell_type": "markdown",
   "id": "8e3a7989-9137-4210-8081-a7001845e8bd",
   "metadata": {},
   "source": [
    "To train, we need to convert a `surprise.Dataset` object to a `surprise.Trainset` object.\\\n",
    "Suppose we want to train on the whole dataset:"
   ]
  },
  {
   "cell_type": "code",
   "execution_count": 57,
   "id": "11a1726d-525b-4f4e-bffc-1b01b3cd0ad7",
   "metadata": {},
   "outputs": [],
   "source": [
    "ratings_strain = ratings_sdata.build_full_trainset()"
   ]
  },
  {
   "cell_type": "markdown",
   "id": "ef35b700-e090-41b8-8036-0b3eacc4b544",
   "metadata": {},
   "source": [
    "Combining `algo` and `ratings_strain`:"
   ]
  },
  {
   "cell_type": "code",
   "execution_count": 60,
   "id": "0d236add-2d10-49e9-bae9-ee60e383d121",
   "metadata": {},
   "outputs": [
    {
     "name": "stdout",
     "output_type": "stream",
     "text": [
      "Computing the cosine similarity matrix...\n",
      "Done computing similarity matrix.\n",
      "Ellapsed time: 43.53758215904236 seconds\n"
     ]
    }
   ],
   "source": [
    "import time\n",
    "start_time = time.time()\n",
    "algo.fit(ratings_strain)\n",
    "print(f\"Ellapsed time: {time.time() - start_time} seconds\")"
   ]
  },
  {
   "cell_type": "markdown",
   "id": "9606d16c-d9fb-4770-a5ed-6dcf90e3d963",
   "metadata": {},
   "source": [
    "## Compute Predictions, Training Loss"
   ]
  },
  {
   "cell_type": "markdown",
   "id": "d8f291b4-60a2-49db-a036-7dc5629af7bf",
   "metadata": {},
   "source": [
    "One can test the train loss over itself. Build first a trainset from the testset, make prediction, then plug in accuracy metrics\\\n",
    "(will take a while)."
   ]
  },
  {
   "cell_type": "code",
   "execution_count": null,
   "id": "ffcaf135-296c-4c27-91b9-f471257807e7",
   "metadata": {},
   "outputs": [],
   "source": [
    "ratings_stest = ratings_strain.build_testset()\n",
    "start_time = time.time()\n",
    "predictions = algo.test(ratings_stest)\n",
    "print(f\"Ellapsed time: {time.time() - start_time} seconds\")"
   ]
  },
  {
   "cell_type": "markdown",
   "id": "48a2849c-fb1b-4690-b06e-c5506dfaa9e1",
   "metadata": {},
   "source": [
    "## Trying out Reccomendation (section in progress)"
   ]
  },
  {
   "cell_type": "markdown",
   "id": "8e189b4c-85d3-4627-848c-8a04faf0de35",
   "metadata": {},
   "source": [
    "Let us search for the top 10 power users and reccomend books for them."
   ]
  },
  {
   "cell_type": "code",
   "execution_count": 78,
   "id": "dadfeff7-cd5e-4138-919f-d48605115276",
   "metadata": {},
   "outputs": [
    {
     "data": {
      "text/html": [
       "<div>\n",
       "<style scoped>\n",
       "    .dataframe tbody tr th:only-of-type {\n",
       "        vertical-align: middle;\n",
       "    }\n",
       "\n",
       "    .dataframe tbody tr th {\n",
       "        vertical-align: top;\n",
       "    }\n",
       "\n",
       "    .dataframe thead th {\n",
       "        text-align: right;\n",
       "    }\n",
       "</style>\n",
       "<table border=\"1\" class=\"dataframe\">\n",
       "  <thead>\n",
       "    <tr style=\"text-align: right;\">\n",
       "      <th></th>\n",
       "      <th>user_id</th>\n",
       "      <th>count</th>\n",
       "    </tr>\n",
       "  </thead>\n",
       "  <tbody>\n",
       "    <tr>\n",
       "      <th>12873</th>\n",
       "      <td>12874</td>\n",
       "      <td>200</td>\n",
       "    </tr>\n",
       "    <tr>\n",
       "      <th>30943</th>\n",
       "      <td>30944</td>\n",
       "      <td>200</td>\n",
       "    </tr>\n",
       "    <tr>\n",
       "      <th>28157</th>\n",
       "      <td>28158</td>\n",
       "      <td>199</td>\n",
       "    </tr>\n",
       "    <tr>\n",
       "      <th>52035</th>\n",
       "      <td>52036</td>\n",
       "      <td>199</td>\n",
       "    </tr>\n",
       "    <tr>\n",
       "      <th>12380</th>\n",
       "      <td>12381</td>\n",
       "      <td>199</td>\n",
       "    </tr>\n",
       "    <tr>\n",
       "      <th>45553</th>\n",
       "      <td>45554</td>\n",
       "      <td>197</td>\n",
       "    </tr>\n",
       "    <tr>\n",
       "      <th>6629</th>\n",
       "      <td>6630</td>\n",
       "      <td>197</td>\n",
       "    </tr>\n",
       "    <tr>\n",
       "      <th>7562</th>\n",
       "      <td>7563</td>\n",
       "      <td>196</td>\n",
       "    </tr>\n",
       "    <tr>\n",
       "      <th>15603</th>\n",
       "      <td>15604</td>\n",
       "      <td>196</td>\n",
       "    </tr>\n",
       "    <tr>\n",
       "      <th>37833</th>\n",
       "      <td>37834</td>\n",
       "      <td>196</td>\n",
       "    </tr>\n",
       "  </tbody>\n",
       "</table>\n",
       "</div>"
      ],
      "text/plain": [
       "       user_id  count\n",
       "12873    12874    200\n",
       "30943    30944    200\n",
       "28157    28158    199\n",
       "52035    52036    199\n",
       "12380    12381    199\n",
       "45553    45554    197\n",
       "6629      6630    197\n",
       "7562      7563    196\n",
       "15603    15604    196\n",
       "37833    37834    196"
      ]
     },
     "execution_count": 78,
     "metadata": {},
     "output_type": "execute_result"
    }
   ],
   "source": [
    "users_top_10_df = ratings_df\\\n",
    "                    .groupby(\"user_id\", as_index=False)\\\n",
    "                    .agg(count=(\"book_id\", \"count\"))\\\n",
    "                    .sort_values(\"count\", ascending=False)\\\n",
    "                    .head(10)\n",
    "users_top_10_df"
   ]
  },
  {
   "cell_type": "markdown",
   "id": "a6dda725-2efd-4ba5-9fae-1398f5cd7045",
   "metadata": {},
   "source": [
    "## Dump Results"
   ]
  },
  {
   "cell_type": "code",
   "execution_count": null,
   "id": "e4e5926f-d229-47c4-8a4a-e51ca15240fa",
   "metadata": {},
   "outputs": [],
   "source": [
    "surprise.dump.dump(\n",
    "    \"../Data/Dumps/cf_knnbasic_all.dump\",\n",
    "    predictions=predictions,\n",
    "    algo=algo,\n",
    "    verbose=1\n",
    ")"
   ]
  },
  {
   "cell_type": "markdown",
   "id": "773d57d5-cd10-4e7e-bac2-c45347dff12d",
   "metadata": {},
   "source": [
    "Dump files can be retrieved by `dump.load(filename)`."
   ]
  }
 ],
 "metadata": {
  "kernelspec": {
   "display_name": "Python 3 (ipykernel)",
   "language": "python",
   "name": "python3"
  },
  "language_info": {
   "codemirror_mode": {
    "name": "ipython",
    "version": 3
   },
   "file_extension": ".py",
   "mimetype": "text/x-python",
   "name": "python",
   "nbconvert_exporter": "python",
   "pygments_lexer": "ipython3",
   "version": "3.11.8"
  }
 },
 "nbformat": 4,
 "nbformat_minor": 5
}
