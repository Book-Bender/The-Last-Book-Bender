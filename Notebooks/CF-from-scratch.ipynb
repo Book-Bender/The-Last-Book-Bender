{
 "cells": [
  {
   "cell_type": "markdown",
   "id": "6431eef8-ed8d-4cf7-89f9-0917a29350bf",
   "metadata": {},
   "source": [
    "# Collaborative Filtering from Scratch"
   ]
  },
  {
   "cell_type": "markdown",
   "id": "26415e0c-fda6-45d4-bfab-091ef1fb486b",
   "metadata": {},
   "source": [
    "This notebook is used to demonstrate how to code and evaluate CF (Collaborative Filtering) using `sklearn`, `pandas`, `scipy`.\n",
    "\n",
    "It is called \"from scratch\" as it does not use the `surprise` library."
   ]
  },
  {
   "cell_type": "markdown",
   "id": "3a50f7b6-489f-4df7-9fac-6ab8f0f96614",
   "metadata": {},
   "source": [
    "## 1. Load libraries and data, inspect data, convert data as sparse"
   ]
  },
  {
   "cell_type": "code",
   "execution_count": 1,
   "id": "3b49b870-f06e-46a5-97c0-fc40544d07ce",
   "metadata": {},
   "outputs": [],
   "source": [
    "import scipy as sp\n",
    "import numpy as np\n",
    "import pandas as pd\n",
    "from sklearn.model_selection import KFold, train_test_split\n",
    "from sklearn.neighbors import NearestNeighbors\n",
    "import os\n",
    "import matplotlib.pyplot as plt"
   ]
  },
  {
   "cell_type": "markdown",
   "id": "327faa00-b97c-40b2-849b-4c8daa180a00",
   "metadata": {},
   "source": [
    "Usage of these libraries:\n",
    "\n",
    "1. `scipy.sparse`: for memory-efficient representation of ratings, vectorization of ratings manipulation.\n",
    "    1. `coo` matrices: easiest representation, consisting of three numpy arrays row, col, data; manipulating the data array leads to manipulation of the underlying values.\n",
    "    2. `csr` matrices: good for slicing rows; used for predicting ratings in item-based CF scenario.\n",
    "    3. `csc` matrices: good for slicing columns; used for predicting item ratings in user-based CF scenario.\n",
    "    4. `save_npz, load_npz` for checkpointing sparse matrices as files for fast loading.\n",
    "2. `sklearn`'s libraries.\n",
    "    1. `NearestNeighbors` from `sklearn.neighbors` for implementation of cosine similarity with baseline adjustments (whether adjust by mean or by a common number).\n",
    "    2. `KFold, train_test_split` from `sklearn.model_selection`. This will be used in conjunction with evaluation metrics.\n",
    "        1. Note: for `KFold, train_test_split`, this notebook implements splitting across \"users\" (not on ratings or items)."
   ]
  },
  {
   "cell_type": "markdown",
   "id": "ac595c76-bcd6-4d9d-8d26-eed3639ccc76",
   "metadata": {},
   "source": [
    "Specify where your `ratings.csv`, `books.csv` directories are.\n",
    "1. `ratings.csv` is the main data that we run CF on.\n",
    "2. `books.csv` is the data that we use for gaining more info on what are recommended by our recommendation system."
   ]
  },
  {
   "cell_type": "code",
   "execution_count": 2,
   "id": "076c9f51-346d-4113-a788-ca0eebca1f82",
   "metadata": {},
   "outputs": [
    {
     "name": "stdout",
     "output_type": "stream",
     "text": [
      "CPU times: user 6.73 s, sys: 244 ms, total: 6.97 s\n",
      "Wall time: 6.99 s\n"
     ]
    },
    {
     "data": {
      "text/html": [
       "<div>\n",
       "<style scoped>\n",
       "    .dataframe tbody tr th:only-of-type {\n",
       "        vertical-align: middle;\n",
       "    }\n",
       "\n",
       "    .dataframe tbody tr th {\n",
       "        vertical-align: top;\n",
       "    }\n",
       "\n",
       "    .dataframe thead th {\n",
       "        text-align: right;\n",
       "    }\n",
       "</style>\n",
       "<table border=\"1\" class=\"dataframe\">\n",
       "  <thead>\n",
       "    <tr style=\"text-align: right;\">\n",
       "      <th></th>\n",
       "      <th>user_id</th>\n",
       "      <th>book_id</th>\n",
       "      <th>rating</th>\n",
       "    </tr>\n",
       "  </thead>\n",
       "  <tbody>\n",
       "    <tr>\n",
       "      <th>0</th>\n",
       "      <td>1</td>\n",
       "      <td>258</td>\n",
       "      <td>5</td>\n",
       "    </tr>\n",
       "    <tr>\n",
       "      <th>1</th>\n",
       "      <td>2</td>\n",
       "      <td>4081</td>\n",
       "      <td>4</td>\n",
       "    </tr>\n",
       "    <tr>\n",
       "      <th>2</th>\n",
       "      <td>2</td>\n",
       "      <td>260</td>\n",
       "      <td>5</td>\n",
       "    </tr>\n",
       "  </tbody>\n",
       "</table>\n",
       "</div>"
      ],
      "text/plain": [
       "   user_id  book_id  rating\n",
       "0        1      258       5\n",
       "1        2     4081       4\n",
       "2        2      260       5"
      ]
     },
     "execution_count": 2,
     "metadata": {},
     "output_type": "execute_result"
    }
   ],
   "source": [
    "%%time\n",
    "csv_dir = \"/home/zebalgebra/School/DVA/The-Last-Book-Bender/Data/Raw/\" # edit this line\n",
    "ratings_all_df = pd.read_csv(\n",
    "    os.path.join(csv_dir, \"ratings.csv\"),\n",
    "    dtype={\n",
    "        \"user_id\": \"Int32\", # 50k users, so this is needed\n",
    "        \"book_id\": \"Int16\", # 10k books, so this is needed\n",
    "        \"rating\": \"Int8\"    # ranging from 0-5, so this is enough\n",
    "    }\n",
    ")\n",
    "ratings_all_df.head(3)"
   ]
  },
  {
   "cell_type": "code",
   "execution_count": 3,
   "id": "7803e64e-a14f-4dde-8428-5690c681f3bc",
   "metadata": {},
   "outputs": [
    {
     "data": {
      "text/html": [
       "<div>\n",
       "<style scoped>\n",
       "    .dataframe tbody tr th:only-of-type {\n",
       "        vertical-align: middle;\n",
       "    }\n",
       "\n",
       "    .dataframe tbody tr th {\n",
       "        vertical-align: top;\n",
       "    }\n",
       "\n",
       "    .dataframe thead th {\n",
       "        text-align: right;\n",
       "    }\n",
       "</style>\n",
       "<table border=\"1\" class=\"dataframe\">\n",
       "  <thead>\n",
       "    <tr style=\"text-align: right;\">\n",
       "      <th></th>\n",
       "      <th>count</th>\n",
       "      <th>min</th>\n",
       "      <th>max</th>\n",
       "    </tr>\n",
       "  </thead>\n",
       "  <tbody>\n",
       "    <tr>\n",
       "      <th>user_id</th>\n",
       "      <td>5976479</td>\n",
       "      <td>1</td>\n",
       "      <td>53424</td>\n",
       "    </tr>\n",
       "    <tr>\n",
       "      <th>book_id</th>\n",
       "      <td>5976479</td>\n",
       "      <td>1</td>\n",
       "      <td>10000</td>\n",
       "    </tr>\n",
       "    <tr>\n",
       "      <th>rating</th>\n",
       "      <td>5976479</td>\n",
       "      <td>1</td>\n",
       "      <td>5</td>\n",
       "    </tr>\n",
       "  </tbody>\n",
       "</table>\n",
       "</div>"
      ],
      "text/plain": [
       "           count  min    max\n",
       "user_id  5976479    1  53424\n",
       "book_id  5976479    1  10000\n",
       "rating   5976479    1      5"
      ]
     },
     "execution_count": 3,
     "metadata": {},
     "output_type": "execute_result"
    }
   ],
   "source": [
    "ratings_all_df.describe().transpose()[[\"count\", \"min\", \"max\"]].astype(\"int32\")"
   ]
  },
  {
   "cell_type": "markdown",
   "id": "3e4ad28d-e944-4abc-a1ae-bc20511dd5e2",
   "metadata": {},
   "source": [
    "so the dataframe has 10k books, 50k users, 6M books, with ratings given between 1-5. The corresponding user-item matrix (with rows the books and columns the users) has density `5976479/(53424*10000)=1.11%`.\n",
    "\n",
    "Using a sparse array for representing this dataframe can be nice. The dataframe is already a `coo` format; we directly build a `csc` matrix:"
   ]
  },
  {
   "cell_type": "code",
   "execution_count": 4,
   "id": "f0b724cd-2159-416d-93b1-233d194c11b6",
   "metadata": {},
   "outputs": [
    {
     "name": "stdout",
     "output_type": "stream",
     "text": [
      "CPU times: user 195 ms, sys: 9.5 ms, total: 204 ms\n",
      "Wall time: 203 ms\n"
     ]
    }
   ],
   "source": [
    "%%time\n",
    "ratings_all_csc = sp.sparse.csc_matrix(\n",
    "    (\n",
    "        ratings_all_df[\"rating\"], # data\n",
    "        (ratings_all_df[\"book_id\"], ratings_all_df[\"user_id\"]) # (row, col)\n",
    "    )\n",
    ") # or csr. since we will slice on columns (users), csc is sensible"
   ]
  },
  {
   "cell_type": "markdown",
   "id": "cab9565c-615e-4364-8880-7239f5a4bd58",
   "metadata": {},
   "source": [
    "You can save this as an `npz` object using `save_npz`, and load it using `load_npz` (which is extremely fast)."
   ]
  },
  {
   "cell_type": "markdown",
   "id": "6b3ba821-91ea-4e52-8a0e-e438dfd61f7e",
   "metadata": {},
   "source": [
    "## 2. Doing train test split for CV (on users)"
   ]
  },
  {
   "cell_type": "markdown",
   "id": "84ebbf5f-7373-4cfe-9b3d-bf6ca2d239b9",
   "metadata": {},
   "source": [
    "Since we will be evaluating models by k-fold cross validation, and out splitting is done on users, we first see how we can utilize the `KFold` function and check the speed of column slicing `csc` matrices."
   ]
  },
  {
   "cell_type": "code",
   "execution_count": 5,
   "id": "528a8381-fdd0-4739-ae6d-c06b05a912c7",
   "metadata": {},
   "outputs": [
    {
     "name": "stdout",
     "output_type": "stream",
     "text": [
      "Splitting for fold 0 with train size 48082, test size 5343\n",
      "Splitting for fold 1 with train size 48082, test size 5343\n",
      "Splitting for fold 2 with train size 48082, test size 5343\n",
      "Splitting for fold 3 with train size 48082, test size 5343\n",
      "Splitting for fold 4 with train size 48082, test size 5343\n",
      "Splitting for fold 5 with train size 48083, test size 5342\n",
      "Splitting for fold 6 with train size 48083, test size 5342\n",
      "Splitting for fold 7 with train size 48083, test size 5342\n",
      "Splitting for fold 8 with train size 48083, test size 5342\n",
      "Splitting for fold 9 with train size 48083, test size 5342\n",
      "CPU times: user 62.7 ms, sys: 9.87 ms, total: 72.6 ms\n",
      "Wall time: 71.9 ms\n"
     ]
    }
   ],
   "source": [
    "%%time\n",
    "kf = KFold(n_splits=10, shuffle=True, random_state=6242) # change this for other CV options\n",
    "user_ids = np.arange(53424 + 1) # the column range of our sparse matrix is 0-53424\n",
    "for fold, (user_ids_train, user_ids_test) in enumerate(kf.split(user_ids)):\n",
    "    print(f\"Splitting for fold {fold} with train size {len(user_ids_train)}, test size {len(user_ids_test)}\")\n",
    "    true_size = (10000 + 1, 53424 + 1)\n",
    "    ratings_train_csc = ratings_all_csc[:, user_ids_train]\n",
    "    ratings_test_csc = ratings_all_csc[:, user_ids_test]"
   ]
  },
  {
   "cell_type": "markdown",
   "id": "a61834aa-2847-43b0-9113-b4b3311306d9",
   "metadata": {},
   "source": [
    "Side note: if we use `csr` matrices (try changing the `tocsc` to `tocsr` one of the previous block), the time needed for the above block will be 8-9x.\n",
    "\n",
    "For demonstration purposes, we will be using the ninth fold (the last one) to show how set up CF. We will also make extensive use of the `user_ids_train` and `user_ids_test`, as converting from `csc` to `coo` will result in losing empty columns."
   ]
  },
  {
   "cell_type": "markdown",
   "id": "989c7be2-c363-4af6-9004-e3013a957ea8",
   "metadata": {},
   "source": [
    "## 3.1. Collaborative Filtering - Shifting Ratings"
   ]
  },
  {
   "cell_type": "markdown",
   "id": "471f397c-8a42-46fc-b173-6d810292f43f",
   "metadata": {},
   "source": [
    "The ratings are given from 1-5. We would guess that 3 = meh, 1 = terrible, 2 = bad, while 4, 5 indicates positive preference.\n",
    "\n",
    "There are several CF metrics for similarities of users. Given two rating vectors $u,v$, with mean $\\mu_u,\\mu_v$ (taken over nonzero entries; some prefer to talk about non-null entries if zero ratings are present), and support $I_u,I_v$ (where $I_u$ is set of indices of $u$ with nonzero entries):\n",
    "\n",
    "1. **Cosine similarity**: $(u\\cdot v)/(\\|u\\|\\|v\\|)$\n",
    "2. **Adjusted cosine similarity**: $(u'\\cdot v')/(\\|u'\\|\\|v'\\|)$ where $u'_i=\\begin{cases}u'_i-\\mu_u&\\text{if }i\\in I_u\\\\0\\end{cases}$; similarly for $v'$.\n",
    "3. **Pearson correlation**: $(u''\\cdot v'')/(\\|u''\\|\\|v''\\|)$ where $u''_i=\\begin{cases}u'_i&\\text{if }i\\in I_u\\cap I_v\\\\0\\end{cases}$; similarly for $v''$.\n",
    "4. **Pearson correlation with inverse user frequency**: $(u'''\\cdot v''')/(\\|u'''\\|\\|v'''\\|)$ where $u'''_i=\\sqrt{\\log(m/m_i)}u''_i$, with $m$ being the number of users, $m_i$ being the number of users rating an item $i$.\n",
    "5. Generalization of 2: take $u'_i=\\begin{cases}f(u_i)&\\text{if }i\\in I_u\\\\0\\end{cases}$ for some function $f$. Intuitively, $f(u_i)$ is a transformation of ratings that is only dependent on the value of ratings.\n",
    "   * For this notebook, we will test with the function $f(u_i)=u_i-2.5$, which makes $1, 2$ negative, and $3, 4, 5$ positive. We call this an **Adjusted Baseline**\n",
    "\n",
    "We will consider 1, 2, 5. We won't consider 3, 4, as it is a bit more complicated (`sklearn`'s `NearestNeighbors` will not be enough in this case (not supported for sparse inputs)).\n",
    "\n",
    "To do 5., we can simply modify the underlying data array (these are ordinary `numpy` arrays):"
   ]
  },
  {
   "cell_type": "code",
   "execution_count": 6,
   "id": "81eea0c0-4b7d-4068-8370-4b2fd5b5922c",
   "metadata": {},
   "outputs": [
    {
     "name": "stdout",
     "output_type": "stream",
     "text": [
      "CPU times: user 37.4 ms, sys: 13.5 ms, total: 50.9 ms\n",
      "Wall time: 49.9 ms\n"
     ]
    },
    {
     "data": {
      "text/plain": [
       "array([2.5, 2.5, 2.5, ..., 2.5, 2.5, 2.5])"
      ]
     },
     "execution_count": 6,
     "metadata": {},
     "output_type": "execute_result"
    }
   ],
   "source": [
    "%%time\n",
    "ratings_train_csc_demo = ratings_train_csc.copy().astype(np.float64) # no references is shared for this copy method\n",
    "mapping = np.array([0, -1.5, -0.5, 0.5, 1.5, 2.5])\n",
    "ratings_train_csc_demo.data = mapping[ratings_train_csc.data.astype(np.int8)]\n",
    "# alternatively, can use: ratings_train_csc_demo.data = ratings_train_csc.data - 2.5\n",
    "ratings_train_csc.data - ratings_train_csc_demo.data"
   ]
  },
  {
   "cell_type": "markdown",
   "id": "7e469ef6-b9cd-4deb-8b67-04de15e9ca74",
   "metadata": {},
   "source": [
    "To do 2., the process involves counting number of nonzero entries in each column, sum along column, divide:"
   ]
  },
  {
   "cell_type": "code",
   "execution_count": 7,
   "id": "17e9c075-0729-45d0-901e-f86090a7a29d",
   "metadata": {},
   "outputs": [
    {
     "name": "stdout",
     "output_type": "stream",
     "text": [
      "CPU times: user 95.5 ms, sys: 39.9 ms, total: 135 ms\n",
      "Wall time: 134 ms\n"
     ]
    }
   ],
   "source": [
    "%%time\n",
    "ratings_train_csc_demo = ratings_train_csc.copy().astype(np.float64)\n",
    "ratings_train_csc_demo_col = ratings_train_csc_demo.tocoo().col\n",
    "col_sums = np.array(ratings_train_csc_demo.sum(axis=0)).flatten() # .sum(axis=0) gives np.matrix\n",
    "col_nonzero_counts = np.array(ratings_train_csc_demo.minimum(1).sum(axis=0)).flatten()\n",
    "ratings_train_csc_demo.data -= col_sums[ratings_train_csc_demo_col] / np.maximum(col_nonzero_counts[ratings_train_csc_demo_col], 0.5)\n",
    "# 0.5 is to avoid DivisionByZero"
   ]
  },
  {
   "cell_type": "markdown",
   "id": "52ae16bd-9e2f-4d02-ba38-a97af7f27300",
   "metadata": {},
   "source": [
    "These functions are abstracted as functions follows:"
   ]
  },
  {
   "cell_type": "code",
   "execution_count": 8,
   "id": "27b854b7-15e8-49a5-8ba6-d896ba337b27",
   "metadata": {},
   "outputs": [],
   "source": [
    "def dilate(X: sp.sparse.csc_matrix, amount: float) -> None:\n",
    "    \"\"\"\n",
    "    deduct each nonempty entry of X by amount\n",
    "    (this mutates the underlying csc matrix)\n",
    "    for example, take a as baseline.\n",
    "    \"\"\"\n",
    "    X.data -= np.float64(amount)\n",
    "\n",
    "def value_remap(X: sp.sparse.csc_matrix, remapper: np.ndarray) -> None:\n",
    "    \"\"\"\n",
    "    remap nonnull values of X based on remapper\n",
    "    (if remapper[i]=j, value of i is remapped to j)\n",
    "    since indexing array only take integers, this might give unexpected errors\n",
    "    \"\"\"\n",
    "    X.data = remapper[X.data.astype(int)].astype(np.float64)\n",
    "\n",
    "def make_mean_0(X: sp.sparse.csc_matrix) -> None:\n",
    "    \"\"\"\n",
    "    make columns of a csc_matrix have zero mean\n",
    "    (this function mutates the underlying data)\n",
    "    \"\"\"\n",
    "    X.data -= get_true_mean(X)\n",
    "\n",
    "def get_true_mean(X: sp.sparse.csc_matrix) -> None:\n",
    "    \"\"\"\n",
    "    compute mean of each column (over nonzero indices!)\n",
    "    this won't mutate the underlying X\n",
    "    \n",
    "    \"\"\"\n",
    "    indexer = X.tocoo().col\n",
    "    v = np.array(X.sum(axis=0)).flatten()\n",
    "    c = np.array(X.minimum(1).sum(axis=0)).flatten()\n",
    "    return v[indexer] / np.maximum(c[indexer], 0.5)\n",
    "\n",
    "def test_mean_is_0(X: sp.sparse.csc_matrix, tol=10 ** (-10)) -> np.bool_:\n",
    "    \"\"\"\n",
    "    test if mean is 0 for each column\n",
    "    should be true on outputs of make_mean_0\n",
    "    \"\"\"\n",
    "    return np.abs(np.array(X.sum(axis=0))).max() < tol"
   ]
  },
  {
   "cell_type": "markdown",
   "id": "0673363a-a008-4b63-b098-26f46bbccc5f",
   "metadata": {},
   "source": [
    "Sample usage (should be equivalent to above):"
   ]
  },
  {
   "cell_type": "code",
   "execution_count": 9,
   "id": "eca11d5b-c416-4b33-bd2e-50d641ab4129",
   "metadata": {},
   "outputs": [
    {
     "name": "stdout",
     "output_type": "stream",
     "text": [
      "CPU times: user 115 ms, sys: 47.1 ms, total: 162 ms\n",
      "Wall time: 162 ms\n"
     ]
    },
    {
     "data": {
      "text/plain": [
       "True"
      ]
     },
     "execution_count": 9,
     "metadata": {},
     "output_type": "execute_result"
    }
   ],
   "source": [
    "%%time\n",
    "# need type conversion from int8; this conversion won't change row, col's dtype\n",
    "ratings_train_csc_demo = ratings_train_csc.copy().astype(np.float64)\n",
    "value_remap(ratings_train_csc_demo, np.array([0, -1.5, -0.5, 0.5, 1.5, 2.5]))\n",
    "dilate(ratings_train_csc_demo, -2.5)\n",
    "make_mean_0(ratings_train_csc_demo)\n",
    "# you can test if make_mean_0 is correct by uncommenting the next line\n",
    "test_mean_is_0(ratings_train_csc_demo)"
   ]
  },
  {
   "cell_type": "markdown",
   "id": "5f9c583c-0d4e-4191-9ed3-9d0b83169f0d",
   "metadata": {},
   "source": [
    "## 3.2 Collaborative Filtering - Getting Top Similarity Scores"
   ]
  },
  {
   "cell_type": "markdown",
   "id": "db8bf096-61d3-4f66-87cf-4d931cb0f3a1",
   "metadata": {},
   "source": [
    "With these functions, we can plug these into `NearestNeighbors` to get top recommendations based on our desired metrics.\n",
    "\n",
    "Take adjusted cosine as example."
   ]
  },
  {
   "cell_type": "code",
   "execution_count": 10,
   "id": "9e925ee1-058a-4424-8224-90d9927a5059",
   "metadata": {},
   "outputs": [
    {
     "name": "stdout",
     "output_type": "stream",
     "text": [
      "CPU times: user 10.5 s, sys: 1.22 s, total: 11.7 s\n",
      "Wall time: 11.7 s\n"
     ]
    },
    {
     "data": {
      "text/plain": [
       "((5342, 5), (5342, 5))"
      ]
     },
     "execution_count": 10,
     "metadata": {},
     "output_type": "execute_result"
    }
   ],
   "source": [
    "%%time\n",
    "true_size = (10000 + 1, 53424 + 1)\n",
    "# preprocess the training set\n",
    "ratings_train_csc_demo = ratings_train_csc\\\n",
    "                            .copy()\\\n",
    "                            .astype(np.float64)\n",
    "make_mean_0(ratings_train_csc_demo)\n",
    "# similarly for testing\n",
    "ratings_test_csc_demo = ratings_test_csc\\\n",
    "                            .copy()\\\n",
    "                            .astype(np.float64)\n",
    "make_mean_0(ratings_test_csc_demo)\n",
    "# fit knn\n",
    "n_neighbors = 5\n",
    "knn = NearestNeighbors(metric=\"cosine\")\n",
    "knn.fit(ratings_train_csc_demo.transpose()) # sklearn's convention is to use rows\n",
    "neigh_dist, neigh_ind = knn.kneighbors(X=ratings_test_csc_demo.transpose(), n_neighbors=n_neighbors) # this step took ~12 seconds on my machine\n",
    "neigh_dist.shape, neigh_ind.shape"
   ]
  },
  {
   "cell_type": "markdown",
   "id": "7202ebef-0291-4631-a980-bea93dfac9e9",
   "metadata": {},
   "source": [
    "First row:"
   ]
  },
  {
   "cell_type": "code",
   "execution_count": 11,
   "id": "ec0b833d-cdee-41f7-8020-47100f3dcae1",
   "metadata": {},
   "outputs": [
    {
     "data": {
      "text/plain": [
       "(array([0.6714676 , 0.79027302, 0.8244908 , 0.83439716, 0.84223844]),\n",
       " array([   24, 38041, 33316, 32243, 32773]))"
      ]
     },
     "execution_count": 11,
     "metadata": {},
     "output_type": "execute_result"
    }
   ],
   "source": [
    "neigh_dist[1, ], neigh_ind[1, ]"
   ]
  },
  {
   "cell_type": "markdown",
   "id": "fd79cd4f-9e56-4a76-b89a-c80809aca466",
   "metadata": {},
   "source": [
    "One gives indices, one gives distances. Distances are cosine distances - which is defined by $1-u\\cdot v/(\\|u\\|\\|v\\|)$. The similarity score can be recoverd as:"
   ]
  },
  {
   "cell_type": "code",
   "execution_count": 12,
   "id": "348ac15a-2e13-4f2b-9dd9-9143a6870a41",
   "metadata": {},
   "outputs": [],
   "source": [
    "sim_scores = 1 - neigh_dist"
   ]
  },
  {
   "cell_type": "markdown",
   "id": "92364b54-c953-423c-9530-76a01dd6d87b",
   "metadata": {},
   "source": [
    "As a reality check, we can count number of `0`'s in the similarity scores:"
   ]
  },
  {
   "cell_type": "code",
   "execution_count": 13,
   "id": "9195f2bf-d1e1-4e03-bd8f-a4153736940e",
   "metadata": {},
   "outputs": [
    {
     "data": {
      "text/plain": [
       "25"
      ]
     },
     "execution_count": 13,
     "metadata": {},
     "output_type": "execute_result"
    }
   ],
   "source": [
    "np.sum(sim_scores[:, 0] == 0, axis=0)"
   ]
  },
  {
   "cell_type": "markdown",
   "id": "d87e0c6c-cf2e-4c19-a393-988be41e787a",
   "metadata": {},
   "source": [
    "This is pretty ideal - only 25 people found no one in training column with positive similarity."
   ]
  },
  {
   "cell_type": "markdown",
   "id": "fc6239e8-6996-47dc-b2a8-ca6c6c91944c",
   "metadata": {},
   "source": [
    "## 3.3 Collaborative Filtering - Predict Ratings"
   ]
  },
  {
   "cell_type": "markdown",
   "id": "ed3aa276-c729-47be-a87e-076d18b8df07",
   "metadata": {},
   "source": [
    "Now we have rankings and similarity scores. To evaluate model performance - such as MAP, MSE - we need to predict ratings on test user's ratings. We only evaluate on those with ground truths.\n",
    "\n",
    "Fix a number $k$ for desired neighborhood size. The formula (here $u$ is a user, $i$ is an item):\n",
    "\n",
    "$$\\hat{r}_{ui}=\\bar{r}_u+\\frac{\\sum_{v\\in N_{u,i}}\\text{sim}_{uv}(r_{vi}-\\bar{r}_v)}{\\sum_{v\\in N_{u,i}}|\\text{sim}_{uv}|},\\quad\\text{for test user }u,\\text{ an item }i\\text{ that }u\\text{ has rated}$$\n",
    "\n",
    "where $N_{u,i}$ is the set of top $k$ neighbors of $u$ **that also rated the item $u$**, $\\text{sim}_{uv}$ is similarity score between $u,v$, $r_{vi}$ is true rating. However, this means that $N_{u,i}$ is not only dependent on $u$ but also on $i$."
   ]
  },
  {
   "cell_type": "markdown",
   "id": "cc26779c-9b68-43f6-a15f-e35706e22bef",
   "metadata": {},
   "source": [
    "An approximate one is:\n",
    "\n",
    "$$\\hat{r}_{ui}=\\bar{r}_u+\\frac{\\sum_{v\\in N_u}\\delta_{i, I_v}\\text{sim}_{uv}(r_{vi}-\\bar{r}_v)}{\\sum_{v\\in N_u}\\delta_{i, I_v}|\\text{sim}_{uv}|}$$\n",
    "\n",
    "where $N_{u}$ is the top $k$ neighbors of $u$, and $\\delta_{i,I_v}=0$ if $i\\in I_v$, otherwise $0$ (recall that $I_v$ is the set of items that $v$ has rated).\n",
    "\n",
    "In this regards, `neigh_ind, neigh_dist` gave us all the $\\text{sim}_{uv},N_u$ needed. The intuition is that if a rating of an item $i$ is missing from a good neighbor $v$ of $u$, we don't let $v$'s score contribute."
   ]
  },
  {
   "cell_type": "code",
   "execution_count": 19,
   "id": "7d3a742d-449d-41a2-ba77-a6d4f09316c7",
   "metadata": {},
   "outputs": [
    {
     "name": "stdout",
     "output_type": "stream",
     "text": [
      "CPU times: user 82.1 ms, sys: 53.5 ms, total: 136 ms\n",
      "Wall time: 135 ms\n"
     ]
    }
   ],
   "source": [
    "%%time\n",
    "# compute vector of means\n",
    "ratings_train_csc_mean = get_true_mean(ratings_train_csc)\n",
    "ratings_test_csc_mean = get_true_mean(ratings_test_csc)\n",
    "# initialize same array\n",
    "ratings_test_csc_predicted = ratings_test_csc.copy()\n",
    "ratings_test_csc_predicted.data = np.zeros(len(ratings_test_csc.data))"
   ]
  },
  {
   "cell_type": "code",
   "execution_count": 54,
   "id": "ebca117e-598b-480c-91bc-f21895c13c22",
   "metadata": {},
   "outputs": [
    {
     "name": "stdout",
     "output_type": "stream",
     "text": [
      "CPU times: user 4.28 s, sys: 2.83 ms, total: 4.29 s\n",
      "Wall time: 4.29 s\n"
     ]
    },
    {
     "data": {
      "text/plain": [
       "(array([2.19387178e-04, 7.13008330e-04, 1.85315685e-03, 7.50902479e-03,\n",
       "        4.22187357e-02, 1.46427645e-01, 1.22170404e-01, 2.27378190e-01,\n",
       "        1.40319707e-01, 1.58598648e-01, 7.12592824e-02, 4.66779463e-02,\n",
       "        1.87044190e-02, 1.07366756e-02, 3.43872782e-03, 1.24818008e-03]),\n",
       " array([-4. , -3.5, -3. , -2.5, -2. , -1.5, -1. , -0.5,  0. ,  0.5,  1. ,\n",
       "         1.5,  2. ,  2.5,  3. ,  3.5,  4. ]),\n",
       " <BarContainer object of 16 artists>)"
      ]
     },
     "execution_count": 54,
     "metadata": {},
     "output_type": "execute_result"
    },
    {
     "data": {
      "image/png": "[encoded data removed]",
      "text/plain": [
       "<Figure size 640x480 with 1 Axes>"
      ]
     },
     "metadata": {},
     "output_type": "display_data"
    }
   ],
   "source": [
    "%%time\n",
    "m = ratings_test_csc.shape[0]\n",
    "start_ind = 0\n",
    "for i in np.unique(ratings_test_csc.tocoo().col): # 5k / n_folds loops\n",
    "    denom = np.zeros((m, 1))\n",
    "    numer = np.zeros((m, 1))\n",
    "    baseline_items = ratings_test_csc[:, i].tocoo().row\n",
    "    n_baseline_items = len(baseline_items)\n",
    "    for j, sim_score in zip(neigh_ind[i], sim_scores[i]): # n_neighbors loops\n",
    "        r_v = ratings_train_csc[:, j].toarray()\n",
    "        mu_v = ratings_train_csc_mean[j]\n",
    "        w = sim_score * np.minimum(1, r_v)\n",
    "        denom += w\n",
    "        numer += w * (r_v - mu_v)\n",
    "    pred_ratings_for_one_user = (ratings_test_csc_mean[i] + numer / np.maximum(denom, 10 ** (-30)))[baseline_items].flatten()\n",
    "    ratings_test_csc_predicted.data[start_ind: start_ind + n_baseline_items] = pred_ratings_for_one_user\n",
    "    start_ind += n_baseline_items\n",
    "# visualize\n",
    "rating_diffs = ratings_test_csc_predicted.data - ratings_test_csc.data\n",
    "n_ratings_test = ratings_test_csc_predicted.data.shape[0]\n",
    "plt.title(\"histogram of differencs between prediction and true ratings\")\n",
    "(counts, bins) = np.histogram(rating_diffs, range=(-4, 4), bins=16)\n",
    "plt.hist(bins[:-1], bins, weights=counts/n_ratings_test)"
   ]
  },
  {
   "cell_type": "markdown",
   "id": "57dd991e-ab1a-4790-945d-f32839d64857",
   "metadata": {},
   "source": [
    "This plot shows a histogram of difference between our predicted ratings and the true ratings.\n",
    "\n",
    "We can also take a look at cumulative percentage of ratings being off:"
   ]
  },
  {
   "cell_type": "code",
   "execution_count": 70,
   "id": "93abbd0c-ae15-49fb-8ecb-a653eeb235b9",
   "metadata": {},
   "outputs": [
    {
     "data": {
      "text/plain": [
       "Text(0.5, 1.0, 'Percentage of ratings being within a range (for every 0.5)')"
      ]
     },
     "execution_count": 70,
     "metadata": {},
     "output_type": "execute_result"
    },
    {
     "data": {
      "image/png": "[encoded data removed]",
      "text/plain": [
       "<Figure size 640x480 with 1 Axes>"
      ]
     },
     "metadata": {},
     "output_type": "display_data"
    }
   ],
   "source": [
    "rating_diffs_abs = np.abs(rating_diffs)\n",
    "(counts, bins) = np.histogram(rating_diffs_abs, range=(0, 5), bins=10)\n",
    "plt.hist(bins[:-1], bins, weights=counts/n_ratings_test, cumulative=True)\n",
    "plt.yticks(np.cumsum(counts/n_ratings_test)[:5])\n",
    "plt.xticks(np.arange(0, 10) / 2)\n",
    "plt.title(\"Percentage of ratings being within a range (for every 0.5)\")"
   ]
  },
  {
   "cell_type": "code",
   "execution_count": null,
   "id": "a002d48f-8776-43ac-9351-c11576a0fb2c",
   "metadata": {},
   "outputs": [],
   "source": []
  },
  {
   "cell_type": "markdown",
   "id": "269fd1df-9d89-4c1c-a894-be4221f981c3",
   "metadata": {},
   "source": [
    "## 3.4 Collaborative Filtering - Evaluating ratings"
   ]
  },
  {
   "cell_type": "markdown",
   "id": "f84c3354-b7be-416b-8cc2-1ed4fea1d3e2",
   "metadata": {},
   "source": [
    "TODO: Add evaluation metrics"
   ]
  },
  {
   "cell_type": "markdown",
   "id": "804a48fe-8c98-448b-b228-0781edb86502",
   "metadata": {},
   "source": [
    "## 3.5 Collaborative Filtering - Putting all together"
   ]
  },
  {
   "cell_type": "markdown",
   "id": "7828a77b-fdc1-4c1b-a347-911f10354324",
   "metadata": {},
   "source": [
    "TODO: Combine section 3.1-3.4 to a single pipeline."
   ]
  }
 ],
 "metadata": {
  "kernelspec": {
   "display_name": "Python 3 (ipykernel)",
   "language": "python",
   "name": "python3"
  },
  "language_info": {
   "codemirror_mode": {
    "name": "ipython",
    "version": 3
   },
   "file_extension": ".py",
   "mimetype": "text/x-python",
   "name": "python",
   "nbconvert_exporter": "python",
   "pygments_lexer": "ipython3",
   "version": "3.11.8"
  }
 },
 "nbformat": 4,
 "nbformat_minor": 5
}
