{
 "cells": [
  {
   "cell_type": "code",
   "execution_count": 2,
   "id": "7c2bc04d-5d21-46c5-8464-2d53bbf4c2c0",
   "metadata": {},
   "outputs": [],
   "source": [
    "import pandas as pd\n",
    "import numpy as np\n",
    "import bz2\n",
    "import pickle\n",
    "import _pickle as cPickle"
   ]
  },
  {
   "cell_type": "code",
   "execution_count": 3,
   "id": "ee63a049-f521-4d9a-9487-7310b7118452",
   "metadata": {},
   "outputs": [
    {
     "data": {
      "text/plain": [
       "(51000, 768)"
      ]
     },
     "execution_count": 3,
     "metadata": {},
     "output_type": "execute_result"
    }
   ],
   "source": [
    "t = np.load(open(\"data/embeddings.npy\", \"rb\"))\n",
    "t.shape"
   ]
  },
  {
   "cell_type": "code",
   "execution_count": 6,
   "id": "29a3125b-7ed8-4c9a-ae78-1574de83e271",
   "metadata": {},
   "outputs": [],
   "source": [
    "for i in range(6):\n",
    "    s = 8500 * i\n",
    "    e = s + 8500\n",
    "    np.save(open(f\"data/embeddings_{i}.npy\", \"wb\"), t[s: e, :])"
   ]
  }
 ],
 "metadata": {
  "kernelspec": {
   "display_name": "Python 3 (ipykernel)",
   "language": "python",
   "name": "python3"
  },
  "language_info": {
   "codemirror_mode": {
    "name": "ipython",
    "version": 3
   },
   "file_extension": ".py",
   "mimetype": "text/x-python",
   "name": "python",
   "nbconvert_exporter": "python",
   "pygments_lexer": "ipython3",
   "version": "3.11.8"
  }
 },
 "nbformat": 4,
 "nbformat_minor": 5
}
